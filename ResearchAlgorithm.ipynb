{
 "cells": [
  {
   "cell_type": "code",
   "execution_count": null,
   "id": "e18f594b",
   "metadata": {},
   "outputs": [],
   "source": [
    "\n",
    "%pip install scipy\n",
    "%pip install matplotlib\n",
    "%pip install numpy\n",
    "%pip install tensorflow\n",
    "%pip install PIL\n",
    "%pip install opencv-python-headless\n",
    "\n"
   ]
  },
  {
   "cell_type": "code",
   "execution_count": 39,
   "id": "f4610911",
   "metadata": {},
   "outputs": [
    {
     "name": "stderr",
     "output_type": "stream",
     "text": [
      "\"git\" non � riconosciuto come comando interno o esterno,\n",
      " un programma eseguibile o un file batch.\n"
     ]
    }
   ],
   "source": [
    "! git clone https://github.com/aimacode/aima-python.git\n"
   ]
  },
  {
   "cell_type": "code",
   "execution_count": 40,
   "id": "391b2c41",
   "metadata": {},
   "outputs": [
    {
     "name": "stdout",
     "output_type": "stream",
     "text": [
      "Defaulting to user installation because normal site-packages is not writeable\n"
     ]
    },
    {
     "name": "stderr",
     "output_type": "stream",
     "text": [
      "\n",
      "[notice] A new release of pip is available: 25.0.1 -> 25.1.1\n",
      "[notice] To update, run: C:\\Users\\picch\\AppData\\Local\\Microsoft\\WindowsApps\\PythonSoftwareFoundation.Python.3.12_qbz5n2kfra8p0\\python.exe -m pip install --upgrade pip\n",
      "ERROR: Could not open requirements file: [Errno 2] No such file or directory: '/content/aima-python/requirements.txt'\n"
     ]
    }
   ],
   "source": [
    "! pip install -r /content/aima-python/requirements.txt"
   ]
  },
  {
   "cell_type": "code",
   "execution_count": 41,
   "id": "454ecfa7",
   "metadata": {},
   "outputs": [
    {
     "name": "stdout",
     "output_type": "stream",
     "text": [
      "[WinError 2] Impossibile trovare il file specificato: 'aima-python/'\n",
      "c:\\Users\\picch\\Documents\\Progetto ai\n"
     ]
    },
    {
     "name": "stderr",
     "output_type": "stream",
     "text": [
      "\"git\" non � riconosciuto come comando interno o esterno,\n",
      " un programma eseguibile o un file batch.\n",
      "\"git\" non � riconosciuto come comando interno o esterno,\n",
      " un programma eseguibile o un file batch.\n"
     ]
    }
   ],
   "source": [
    "%cd aima-python/\n",
    "!git submodule init\n",
    "!git submodule update"
   ]
  },
  {
   "cell_type": "code",
   "execution_count": 43,
   "id": "71ea9a41",
   "metadata": {},
   "outputs": [
    {
     "name": "stdout",
     "output_type": "stream",
     "text": [
      "Defaulting to user installation because normal site-packages is not writeable\n",
      "Requirement already satisfied: pytest in c:\\users\\picch\\appdata\\local\\packages\\pythonsoftwarefoundation.python.3.12_qbz5n2kfra8p0\\localcache\\local-packages\\python312\\site-packages (8.3.5)\n",
      "Requirement already satisfied: colorama in c:\\users\\picch\\appdata\\local\\packages\\pythonsoftwarefoundation.python.3.12_qbz5n2kfra8p0\\localcache\\local-packages\\python312\\site-packages (from pytest) (0.4.6)\n",
      "Requirement already satisfied: iniconfig in c:\\users\\picch\\appdata\\local\\packages\\pythonsoftwarefoundation.python.3.12_qbz5n2kfra8p0\\localcache\\local-packages\\python312\\site-packages (from pytest) (2.1.0)\n",
      "Requirement already satisfied: packaging in c:\\users\\picch\\appdata\\local\\packages\\pythonsoftwarefoundation.python.3.12_qbz5n2kfra8p0\\localcache\\local-packages\\python312\\site-packages (from pytest) (25.0)\n",
      "Requirement already satisfied: pluggy<2,>=1.5 in c:\\users\\picch\\appdata\\local\\packages\\pythonsoftwarefoundation.python.3.12_qbz5n2kfra8p0\\localcache\\local-packages\\python312\\site-packages (from pytest) (1.6.0)\n"
     ]
    },
    {
     "name": "stderr",
     "output_type": "stream",
     "text": [
      "\n",
      "[notice] A new release of pip is available: 25.0.1 -> 25.1.1\n",
      "[notice] To update, run: C:\\Users\\picch\\AppData\\Local\\Microsoft\\WindowsApps\\PythonSoftwareFoundation.Python.3.12_qbz5n2kfra8p0\\python.exe -m pip install --upgrade pip\n"
     ]
    }
   ],
   "source": [
    "! pip install pytest"
   ]
  },
  {
   "cell_type": "code",
   "execution_count": 44,
   "id": "4862f334",
   "metadata": {},
   "outputs": [],
   "source": [
    "import sys\n",
    "import os\n",
    "py_file_location = \"/content/aima-pyhton\"\n",
    "sys.path.append(os.path.abspath(py_file_location))\n"
   ]
  },
  {
   "cell_type": "code",
   "execution_count": 46,
   "id": "b17a098f",
   "metadata": {},
   "outputs": [
    {
     "name": "stderr",
     "output_type": "stream",
     "text": [
      "WARNING:absl:Compiled the loaded model, but the compiled metrics have yet to be built. `model.compile_metrics` will be empty until you train or evaluate the model.\n"
     ]
    }
   ],
   "source": [
    "from PIL import Image\n",
    "import numpy as np\n",
    "import tensorflow as tf\n",
    "import matplotlib.pyplot as plt\n",
    "import cv2\n",
    "import tempfile\n",
    "import os\n",
    "\n",
    "import numpy as np\n",
    "\n",
    "model = tf.keras.models.load_model(\"letter_recognition_model.h5\")"
   ]
  },
  {
   "cell_type": "code",
   "execution_count": 54,
   "id": "d7fa7c93",
   "metadata": {},
   "outputs": [],
   "source": [
    "from AiTextExtractorService2 import AiTextExtractorService\n",
    "from utils import *\n",
    "from search import *\n",
    "from GridProblem import GridProblem"
   ]
  },
  {
   "cell_type": "code",
   "execution_count": null,
   "id": "50eeb166",
   "metadata": {},
   "outputs": [
    {
     "name": "stdout",
     "output_type": "stream",
     "text": [
      "Model loaded successfully\n"
     ]
    }
   ],
   "source": [
    "estrattore = AiTextExtractorService(model)\n"
   ]
  },
  {
   "cell_type": "code",
   "execution_count": null,
   "id": "f30cc5f9",
   "metadata": {},
   "outputs": [],
   "source": [
    "lettere, num_rows, num_columns = estrattore.runGridExtraction('costum-test/1.png')"
   ]
  },
  {
   "cell_type": "code",
   "execution_count": 5,
   "id": "cb894f1c",
   "metadata": {},
   "outputs": [
    {
     "name": "stdout",
     "output_type": "stream",
     "text": [
      "['g', 't', 'g', 'b', 'g', 'y', 'g', 'b']\n",
      "2\n",
      "4\n"
     ]
    }
   ],
   "source": [
    "print(lettere)\n",
    "print(num_rows)\n",
    "print(num_columns)\n",
    "\n"
   ]
  },
  {
   "cell_type": "code",
   "execution_count": 68,
   "id": "882b0ba9",
   "metadata": {},
   "outputs": [],
   "source": [
    "def array_to_grid(array, rows, cols):\n",
    "        \"\"\"Converte array 1D in griglia 2D.\"\"\"\n",
    "        if len(array) != rows * cols:\n",
    "            raise ValueError(f\"Array length {len(array)} doesn't match grid size {rows}x{cols}\")\n",
    "        \n",
    "        grid = []\n",
    "        for i in range(rows):\n",
    "            row = array[i * cols:(i + 1) * cols]\n",
    "            grid.append(row)\n",
    "        return grid\n"
   ]
  },
  {
   "cell_type": "code",
   "execution_count": 69,
   "id": "6a25ba45",
   "metadata": {},
   "outputs": [
    {
     "name": "stdout",
     "output_type": "stream",
     "text": [
      "[['g', 't', 'g', 'b'], ['g', 'y', 'g', 'b']]\n"
     ]
    }
   ],
   "source": [
    "\n",
    "gridProblem = array_to_grid(lettere, num_rows, num_columns)\n",
    "print(gridProblem)\n"
   ]
  },
  {
   "cell_type": "markdown",
   "id": "120797d0",
   "metadata": {},
   "source": [
    "Questo serve per la ricerca, adattare il vacuum problem alla griglia estratta:\n",
    "\n",
    "vacuum_world = Graph(dict(\n",
    "    State_1=dict(Suck=['State_7', 'State_5'], Right=['State_2']),\n",
    "    State_2=dict(Suck=['State_8', 'State_4'], Left=['State_2']),\n",
    "    State_3=dict(Suck=['State_7'], Right=['State_4']),\n",
    "    State_4=dict(Suck=['State_4', 'State_2'], Left=['State_3']),\n",
    "    State_5=dict(Suck=['State_5', 'State_1'], Right=['State_6']),\n",
    "    State_6=dict(Suck=['State_8'], Left=['State_5']),\n",
    "    State_7=dict(Suck=['State_7', 'State_3'], Right=['State_8']),\n",
    "    State_8=dict(Suck=['State_8', 'State_6'], Left=['State_7'])\n",
    "))\n",
    "\n",
    "Dobbiamo usare la libreria search py che ho importato"
   ]
  },
  {
   "cell_type": "markdown",
   "id": "5d27e4c1",
   "metadata": {},
   "source": [
    "implementazione di algoritmo di ricerca su la griglia estratta"
   ]
  }
 ],
 "metadata": {
  "kernelspec": {
   "display_name": "Python 3",
   "language": "python",
   "name": "python3"
  },
  "language_info": {
   "codemirror_mode": {
    "name": "ipython",
    "version": 3
   },
   "file_extension": ".py",
   "mimetype": "text/x-python",
   "name": "python",
   "nbconvert_exporter": "python",
   "pygments_lexer": "ipython3",
   "version": "3.11.4"
  }
 },
 "nbformat": 4,
 "nbformat_minor": 5
}
